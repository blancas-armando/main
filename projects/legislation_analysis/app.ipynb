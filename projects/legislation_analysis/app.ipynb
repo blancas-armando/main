{
 "cells": [
  {
   "cell_type": "code",
   "execution_count": 1,
   "metadata": {},
   "outputs": [
    {
     "name": "stdout",
     "output_type": "stream",
     "text": [
      "{'status': 'OK', 'datasetlist': [{'state_id': 5, 'session_id': 2016, 'year_start': 2023, 'year_end': 2024, 'prefile': 0, 'sine_die': 0, 'prior': 0, 'special': 0, 'session_tag': 'Regular Session', 'session_title': '2023-2024 Regular Session', 'session_name': '2023-2024 Session', 'dataset_date': '2023-06-25', 'dataset_hash': '89d69e51e88506408d80690952568b18', 'dataset_size': 9707689, 'access_key': '4RCd35yT13PDf6j2bWauY6'}, {'state_id': 5, 'session_id': 1791, 'year_start': 2021, 'year_end': 2022, 'prefile': 0, 'sine_die': 1, 'prior': 1, 'special': 0, 'session_tag': 'Regular Session', 'session_title': '2021-2022 Regular Session', 'session_name': '2021-2022 Session', 'dataset_date': '2022-12-11', 'dataset_hash': '48ae3222e08e6cd730ef7c818d467561', 'dataset_size': 22799636, 'access_key': '6x48LfAhHun0gKytklHOTS'}, {'state_id': 5, 'session_id': 1624, 'year_start': 2019, 'year_end': 2020, 'prefile': 0, 'sine_die': 1, 'prior': 1, 'special': 0, 'session_tag': 'Regular Session', 'session_title': '2019-2020 Regular Session', 'session_name': '2019-2020 Session', 'dataset_date': '2021-12-31', 'dataset_hash': 'b42df4087677a62e0fbe86f4e0b11b47', 'dataset_size': 18380327, 'access_key': '6ZxyhM0EoB8zv1oOCYmy51'}, {'state_id': 5, 'session_id': 1400, 'year_start': 2017, 'year_end': 2018, 'prefile': 0, 'sine_die': 1, 'prior': 1, 'special': 0, 'session_tag': 'Regular Session', 'session_title': '2017-2018 Regular Session', 'session_name': '2017-2018 Session', 'dataset_date': '2021-12-31', 'dataset_hash': '8001c96d73676e7a1e23027ab9ba5372', 'dataset_size': 23477079, 'access_key': 'hINs9eZOJK9Xf1VTbltMO'}, {'state_id': 5, 'session_id': 1120, 'year_start': 2015, 'year_end': 2016, 'prefile': 0, 'sine_die': 1, 'prior': 1, 'special': 0, 'session_tag': 'Regular Session', 'session_title': '2015-2016 Regular Session', 'session_name': '2015-2016 Session', 'dataset_date': '2021-12-31', 'dataset_hash': '4baea2bdb2cfc3dfd98aa6e40cf90a11', 'dataset_size': 21756793, 'access_key': '3QmZEJZTldkFjJXu5fp54Q'}, {'state_id': 5, 'session_id': 993, 'year_start': 2013, 'year_end': 2014, 'prefile': 0, 'sine_die': 1, 'prior': 1, 'special': 0, 'session_tag': 'Regular Session', 'session_title': '2013-2014 Regular Session', 'session_name': '2013-2014 Session', 'dataset_date': '2021-12-31', 'dataset_hash': '40e8bf4bc80dff530607313abdcbe545', 'dataset_size': 19864376, 'access_key': '72UgiSXP9eyUYIC9c3CxE7'}, {'state_id': 5, 'session_id': 82, 'year_start': 2011, 'year_end': 2012, 'prefile': 0, 'sine_die': 1, 'prior': 1, 'special': 0, 'session_tag': 'Regular Session', 'session_title': '2011-2012 Regular Session', 'session_name': '2011-2012 Session', 'dataset_date': '2021-12-31', 'dataset_hash': '5bacff6896092044f6a90a76e6a60520', 'dataset_size': 18860012, 'access_key': '3rYNvhVLuiwfMk4Jx8sKc3'}, {'state_id': 5, 'session_id': 30, 'year_start': 2009, 'year_end': 2010, 'prefile': 0, 'sine_die': 1, 'prior': 1, 'special': 0, 'session_tag': 'Regular Session', 'session_title': '2009-2010 Regular Session', 'session_name': '2009-2010 Session', 'dataset_date': '2021-12-31', 'dataset_hash': 'd05bde5b1870d32a476e041cfba69b11', 'dataset_size': 19010681, 'access_key': '4FtDLs1gphDN5SSPz6WY4R'}]}\n"
     ]
    }
   ],
   "source": [
    "import requests\n",
    "import pandas as pd\n",
    "\n",
    "legiscan_api_key='c8d73b2173b9881d495a8a05d59d860d'\n",
    "\n",
    "response = requests.get('https://api.legiscan.com/?key=c8d73b2173b9881d495a8a05d59d860d&op=getDatasetList&state=CA')\n"
   ]
  },
  {
   "cell_type": "code",
   "execution_count": 4,
   "metadata": {},
   "outputs": [],
   "source": [
    "getDatasetList='https://api.legiscan.com/?key=c8d73b2173b9881d495a8a05d59d860d&op=getDatasetList&state=CA'\n",
    "getDataset='https://api.legiscan.com/?key=c8d73b2173b9881d495a8a05d59d860d&op=getDataset&access_key=4RCd35yT13PDf6j2bWauY6&id=2016'\n",
    "getSessionList='https://api.legiscan.com/?key=c8d73b2173b9881d495a8a05d59d860d&op=getSessionList&state=CA'\n",
    "getSessionPeople='https://api.legiscan.com/?key=c8d73b2173b9881d495a8a05d59d860d&op=getSessionPeople&id=2016'\n",
    "getMonitorListRaw='https://api.legiscan.com/?key=c8d73b2173b9881d495a8a05d59d860d&op=getMonitorListRaw&record=current'\n",
    "getMonitorList='https://api.legiscan.com/?key=c8d73b2173b9881d495a8a05d59d860d&op=getMonitorList&record=all'\n",
    "getMasterListRaw='https://api.legiscan.com/?key=c8d73b2173b9881d495a8a05d59d860d&op=getMasterListRaw&id=2016'\n",
    "getMasterList='https://api.legiscan.com/?key=c8d73b2173b9881d495a8a05d59d860d&op=getMasterList&id=2016'\n",
    "getBill='https://api.legiscan.com/?key=c8d73b2173b9881d495a8a05d59d860d&op=getBill&id=1773266'\n",
    "getBillText='https://api.legiscan.com/?key=c8d73b2173b9881d495a8a05d59d860d&op=getBillText&id=2831267'\n",
    "getRollCall='https://api.legiscan.com/?key=c8d73b2173b9881d495a8a05d59d860d&op=getRollCall&id=1347954'\n",
    "getPerson='https://api.legiscan.com/?key=c8d73b2173b9881d495a8a05d59d860d&op=getPerson&id=24935'\n",
    "getSearch='https://api.legiscan.com/?key=c8d73b2173b9881d495a8a05d59d860d&op=getSearch&state=CA&query=tax'\n",
    "getSearchRaw='https://api.legiscan.com/?key=c8d73b2173b9881d495a8a05d59d860d&op=getSearchRaw&state=CA&query=tax'"
   ]
  },
  {
   "cell_type": "code",
   "execution_count": 5,
   "metadata": {},
   "outputs": [
    {
     "data": {
      "text/html": [
       "<div>\n",
       "<style scoped>\n",
       "    .dataframe tbody tr th:only-of-type {\n",
       "        vertical-align: middle;\n",
       "    }\n",
       "\n",
       "    .dataframe tbody tr th {\n",
       "        vertical-align: top;\n",
       "    }\n",
       "\n",
       "    .dataframe thead th {\n",
       "        text-align: right;\n",
       "    }\n",
       "</style>\n",
       "<table border=\"1\" class=\"dataframe\">\n",
       "  <thead>\n",
       "    <tr style=\"text-align: right;\">\n",
       "      <th></th>\n",
       "      <th>status</th>\n",
       "      <th>datasetlist</th>\n",
       "    </tr>\n",
       "  </thead>\n",
       "  <tbody>\n",
       "    <tr>\n",
       "      <th>0</th>\n",
       "      <td>OK</td>\n",
       "      <td>{'state_id': 5, 'session_id': 2016, 'year_star...</td>\n",
       "    </tr>\n",
       "    <tr>\n",
       "      <th>1</th>\n",
       "      <td>OK</td>\n",
       "      <td>{'state_id': 5, 'session_id': 1791, 'year_star...</td>\n",
       "    </tr>\n",
       "    <tr>\n",
       "      <th>2</th>\n",
       "      <td>OK</td>\n",
       "      <td>{'state_id': 5, 'session_id': 1624, 'year_star...</td>\n",
       "    </tr>\n",
       "    <tr>\n",
       "      <th>3</th>\n",
       "      <td>OK</td>\n",
       "      <td>{'state_id': 5, 'session_id': 1400, 'year_star...</td>\n",
       "    </tr>\n",
       "    <tr>\n",
       "      <th>4</th>\n",
       "      <td>OK</td>\n",
       "      <td>{'state_id': 5, 'session_id': 1120, 'year_star...</td>\n",
       "    </tr>\n",
       "  </tbody>\n",
       "</table>\n",
       "</div>"
      ],
      "text/plain": [
       "  status                                        datasetlist\n",
       "0     OK  {'state_id': 5, 'session_id': 2016, 'year_star...\n",
       "1     OK  {'state_id': 5, 'session_id': 1791, 'year_star...\n",
       "2     OK  {'state_id': 5, 'session_id': 1624, 'year_star...\n",
       "3     OK  {'state_id': 5, 'session_id': 1400, 'year_star...\n",
       "4     OK  {'state_id': 5, 'session_id': 1120, 'year_star..."
      ]
     },
     "execution_count": 5,
     "metadata": {},
     "output_type": "execute_result"
    }
   ],
   "source": [
    "df = pd.read_json(getDatasetList)\n",
    "df.head()"
   ]
  },
  {
   "cell_type": "code",
   "execution_count": null,
   "metadata": {},
   "outputs": [],
   "source": []
  }
 ],
 "metadata": {
  "kernelspec": {
   "display_name": "Python 3",
   "language": "python",
   "name": "python3"
  },
  "language_info": {
   "codemirror_mode": {
    "name": "ipython",
    "version": 3
   },
   "file_extension": ".py",
   "mimetype": "text/x-python",
   "name": "python",
   "nbconvert_exporter": "python",
   "pygments_lexer": "ipython3",
   "version": "3.11.4"
  },
  "orig_nbformat": 4
 },
 "nbformat": 4,
 "nbformat_minor": 2
}
