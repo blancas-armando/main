{
 "cells": [
  {
   "cell_type": "code",
   "execution_count": 12,
   "metadata": {},
   "outputs": [],
   "source": [
    "import requests\n",
    "import pandas as pd\n",
    "import json\n",
    "from legcop import LegiScan\n",
    "\n",
    "legiscan_api_key='c8d73b2173b9881d495a8a05d59d860d'\n",
    "legis = LegiScan(legiscan_api_key)"
   ]
  },
  {
   "cell_type": "code",
   "execution_count": 8,
   "metadata": {},
   "outputs": [
    {
     "name": "stdout",
     "output_type": "stream",
     "text": [
      "[{'session_id': 2016, 'state_id': 5, 'year_start': 2023, 'year_end': 2024, 'prefile': 0, 'sine_die': 0, 'prior': 0, 'special': 0, 'session_tag': 'Regular Session', 'session_title': '2023-2024 Regular Session', 'session_name': '2023-2024 Session', 'dataset_hash': '89d69e51e88506408d80690952568b18', 'session_hash': '89d69e51e88506408d80690952568b18', 'name': '2023-2024 Regular Session'}, {'session_id': 1791, 'state_id': 5, 'year_start': 2021, 'year_end': 2022, 'prefile': 0, 'sine_die': 1, 'prior': 1, 'special': 0, 'session_tag': 'Regular Session', 'session_title': '2021-2022 Regular Session', 'session_name': '2021-2022 Session', 'dataset_hash': '48ae3222e08e6cd730ef7c818d467561', 'session_hash': '48ae3222e08e6cd730ef7c818d467561', 'name': '2021-2022 Regular Session'}, {'session_id': 1624, 'state_id': 5, 'year_start': 2019, 'year_end': 2020, 'prefile': 0, 'sine_die': 1, 'prior': 1, 'special': 0, 'session_tag': 'Regular Session', 'session_title': '2019-2020 Regular Session', 'session_name': '2019-2020 Session', 'dataset_hash': 'b42df4087677a62e0fbe86f4e0b11b47', 'session_hash': 'b42df4087677a62e0fbe86f4e0b11b47', 'name': '2019-2020 Regular Session'}, {'session_id': 1400, 'state_id': 5, 'year_start': 2017, 'year_end': 2018, 'prefile': 0, 'sine_die': 1, 'prior': 1, 'special': 0, 'session_tag': 'Regular Session', 'session_title': '2017-2018 Regular Session', 'session_name': '2017-2018 Session', 'dataset_hash': '8001c96d73676e7a1e23027ab9ba5372', 'session_hash': '8001c96d73676e7a1e23027ab9ba5372', 'name': '2017-2018 Regular Session'}, {'session_id': 1120, 'state_id': 5, 'year_start': 2015, 'year_end': 2016, 'prefile': 0, 'sine_die': 1, 'prior': 1, 'special': 0, 'session_tag': 'Regular Session', 'session_title': '2015-2016 Regular Session', 'session_name': '2015-2016 Session', 'dataset_hash': '4baea2bdb2cfc3dfd98aa6e40cf90a11', 'session_hash': '4baea2bdb2cfc3dfd98aa6e40cf90a11', 'name': '2015-2016 Regular Session'}, {'session_id': 993, 'state_id': 5, 'year_start': 2013, 'year_end': 2014, 'prefile': 0, 'sine_die': 1, 'prior': 1, 'special': 0, 'session_tag': 'Regular Session', 'session_title': '2013-2014 Regular Session', 'session_name': '2013-2014 Session', 'dataset_hash': '40e8bf4bc80dff530607313abdcbe545', 'session_hash': '40e8bf4bc80dff530607313abdcbe545', 'name': '2013-2014 Regular Session'}, {'session_id': 82, 'state_id': 5, 'year_start': 2011, 'year_end': 2012, 'prefile': 0, 'sine_die': 1, 'prior': 1, 'special': 0, 'session_tag': 'Regular Session', 'session_title': '2011-2012 Regular Session', 'session_name': '2011-2012 Session', 'dataset_hash': '5bacff6896092044f6a90a76e6a60520', 'session_hash': '5bacff6896092044f6a90a76e6a60520', 'name': '2011-2012 Session'}, {'session_id': 30, 'state_id': 5, 'year_start': 2009, 'year_end': 2010, 'prefile': 0, 'sine_die': 1, 'prior': 1, 'special': 0, 'session_tag': 'Regular Session', 'session_title': '2009-2010 Regular Session', 'session_name': '2009-2010 Session', 'dataset_hash': 'd05bde5b1870d32a476e041cfba69b11', 'session_hash': 'd05bde5b1870d32a476e041cfba69b11', 'name': '2009-2010 Session'}]\n"
     ]
    }
   ],
   "source": [
    "state='ca'\n",
    "ca_sessions = legis.get_session_list(state=state)\n",
    "print(ca_sessions)"
   ]
  },
  {
   "cell_type": "code",
   "execution_count": 9,
   "metadata": {},
   "outputs": [],
   "source": [
    "start_most_recent_session = ca_sessions[0]['year_start']\n",
    "\n",
    "datasetlist = legis.get_dataset_list(state=state,\n",
    "                                     year=start_most_recent_session)\n",
    "\n",
    "access_key = datasetlist[0]['access_key']\n",
    "session_id =  datasetlist[0]['session_id']"
   ]
  },
  {
   "cell_type": "code",
   "execution_count": 11,
   "metadata": {},
   "outputs": [],
   "source": [
    "dataset = legis.get_dataset(session_id=session_id, access_key=access_key)\n",
    "assert dataset['status']=='OK'\n",
    "readable_dataset = legis.recode_zipfile(dataset)"
   ]
  },
  {
   "cell_type": "code",
   "execution_count": 22,
   "metadata": {},
   "outputs": [
    {
     "name": "stdout",
     "output_type": "stream",
     "text": [
      "bill_id: 1636377\n",
      "change_hash: 5a9bcc2c85365baf6186543d316f5116\n",
      "session_id: 2016\n",
      "session: {'session_id': 2016, 'state_id': 5, 'year_start': 2023, 'year_end': 2024, 'prefile': 0, 'sine_die': 0, 'prior': 0, 'special': 0, 'session_tag': 'Regular Session', 'session_title': '2023-2024 Regular Session', 'session_name': '2023-2024 Session'}\n",
      "url: https://legiscan.com/CA/bill/AB1/2023\n",
      "state_link: https://leginfo.legislature.ca.gov/faces/billStatusClient.xhtml?bill_id=202320240AB1\n",
      "completed: 0\n",
      "status: 2\n",
      "status_date: 2023-05-25\n",
      "progress: [{'date': '2022-12-05', 'event': 1}, {'date': '2023-01-26', 'event': 9}, {'date': '2023-04-17', 'event': 10}, {'date': '2023-04-18', 'event': 9}, {'date': '2023-04-26', 'event': 10}, {'date': '2023-04-26', 'event': 9}, {'date': '2023-05-10', 'event': 9}, {'date': '2023-05-18', 'event': 10}, {'date': '2023-05-25', 'event': 2}, {'date': '2023-05-26', 'event': 9}, {'date': '2023-06-14', 'event': 9}]\n",
      "state: CA\n",
      "state_id: 5\n",
      "bill_number: AB1\n",
      "bill_type: B\n",
      "bill_type_id: 1\n",
      "body: A\n",
      "body_id: 19\n",
      "current_body: S\n",
      "current_body_id: 20\n",
      "title: Collective bargaining: Legislature.\n",
      "description: An act to add Chapter 12.5 (commencing with Section 3599.50) to Division 4 of Title 1 of the Government Code, relating to the Legislature.\n",
      "pending_committee_id: 3973\n",
      "committee: {'committee_id': 3973, 'chamber': 'S', 'chamber_id': 20, 'name': 'Labor, Public Employment and Retirement'}\n",
      "referrals: [{'date': '2023-01-26', 'committee_id': 3914, 'chamber': 'A', 'chamber_id': 19, 'name': 'Public Employment and Retirement'}, {'date': '2023-04-26', 'committee_id': 449, 'chamber': 'A', 'chamber_id': 19, 'name': 'Appropriations'}, {'date': '2023-05-26', 'committee_id': 489, 'chamber': 'S', 'chamber_id': 20, 'name': 'Rules'}, {'date': '2023-06-14', 'committee_id': 3973, 'chamber': 'S', 'chamber_id': 20, 'name': 'Labor, Public Employment and Retirement'}]\n",
      "history: [{'date': '2022-12-05', 'action': 'Read first time. To print.', 'chamber': 'A', 'chamber_id': 19, 'importance': 1}, {'date': '2022-12-06', 'action': 'From printer. May be heard in committee January 5.', 'chamber': 'A', 'chamber_id': 19, 'importance': 0}, {'date': '2023-01-26', 'action': 'Referred to Com. on P.E. & R.', 'chamber': 'A', 'chamber_id': 19, 'importance': 1}, {'date': '2023-04-17', 'action': \"From committee chair, with author's amendments: Amend, and re-refer to Com. on P.E. & R. Read second time and amended.\", 'chamber': 'A', 'chamber_id': 19, 'importance': 1}, {'date': '2023-04-18', 'action': 'Re-referred to Com. on P.E. & R.', 'chamber': 'A', 'chamber_id': 19, 'importance': 1}, {'date': '2023-04-21', 'action': 'Measure version as amended on April 17 corrected.', 'chamber': 'A', 'chamber_id': 19, 'importance': 0}, {'date': '2023-04-26', 'action': 'From committee: Do pass and re-refer to Com. on APPR. (Ayes 6. Noes 1.) (April 26). Re-referred to Com. on APPR.', 'chamber': 'A', 'chamber_id': 19, 'importance': 1}, {'date': '2023-05-10', 'action': 'In committee: Set, first hearing. Referred to suspense file.', 'chamber': 'A', 'chamber_id': 19, 'importance': 1}, {'date': '2023-05-18', 'action': 'From committee: Amend, and do pass as amended. (Ayes 12. Noes 3.) (May 18).', 'chamber': 'A', 'chamber_id': 19, 'importance': 1}, {'date': '2023-05-18', 'action': 'Read second time and amended. Ordered returned to second reading.', 'chamber': 'A', 'chamber_id': 19, 'importance': 0}, {'date': '2023-05-22', 'action': 'Read second time. Ordered to third reading.', 'chamber': 'A', 'chamber_id': 19, 'importance': 0}, {'date': '2023-05-25', 'action': 'Read third time. Passed. Ordered to the Senate. (Ayes 68. Noes 5.)', 'chamber': 'A', 'chamber_id': 19, 'importance': 1}, {'date': '2023-05-26', 'action': 'In Senate. Read first time. To Com. on RLS. for assignment.', 'chamber': 'S', 'chamber_id': 20, 'importance': 1}, {'date': '2023-06-14', 'action': 'Referred to Coms. on L., P.E. & R. and JUD.', 'chamber': 'S', 'chamber_id': 20, 'importance': 1}]\n",
      "sponsors: [{'people_id': 22932, 'person_hash': 'gdhzmeja', 'party_id': '1', 'state_id': 5, 'party': 'D', 'role_id': 1, 'role': 'Rep', 'name': 'Isaac Bryan', 'first_name': 'Isaac', 'middle_name': '', 'last_name': 'Bryan', 'suffix': '', 'nickname': '', 'district': 'HD-055', 'ftm_eid': 0, 'votesmart_id': 195907, 'opensecrets_id': '', 'knowwho_pid': 722792, 'ballotpedia': 'Isaac_Bryan', 'bioguide_id': '', 'sponsor_type_id': 1, 'sponsor_order': 1, 'committee_sponsor': 0, 'committee_id': 0, 'state_federal': 0}, {'people_id': 23137, 'person_hash': 'plpofbz2', 'party_id': '1', 'state_id': 5, 'party': 'D', 'role_id': 1, 'role': 'Rep', 'name': 'Matt Haney', 'first_name': 'Matt', 'middle_name': '', 'last_name': 'Haney', 'suffix': '', 'nickname': '', 'district': 'HD-017', 'ftm_eid': 32894541, 'votesmart_id': 187414, 'opensecrets_id': '', 'knowwho_pid': 805247, 'ballotpedia': 'Matt_Haney', 'bioguide_id': '', 'sponsor_type_id': 1, 'sponsor_order': 2, 'committee_sponsor': 0, 'committee_id': 0, 'state_federal': 0}, {'people_id': 18065, 'person_hash': '7l7sp2pk', 'party_id': '1', 'state_id': 5, 'party': 'D', 'role_id': 1, 'role': 'Rep', 'name': 'Ash Kalra', 'first_name': 'Ash', 'middle_name': '', 'last_name': 'Kalra', 'suffix': '', 'nickname': '', 'district': 'HD-025', 'ftm_eid': 161609, 'votesmart_id': 112088, 'opensecrets_id': '', 'knowwho_pid': 577820, 'ballotpedia': 'Ash_Kalra', 'bioguide_id': '', 'sponsor_type_id': 1, 'sponsor_order': 3, 'committee_sponsor': 0, 'committee_id': 0, 'state_federal': 0}, {'people_id': 21719, 'person_hash': 'kzop1cuk', 'party_id': '1', 'state_id': 5, 'party': 'D', 'role_id': 1, 'role': 'Rep', 'name': 'Alex Lee', 'first_name': 'Alex', 'middle_name': '', 'last_name': 'Lee', 'suffix': '', 'nickname': '', 'district': 'HD-024', 'ftm_eid': 48644320, 'votesmart_id': 188786, 'opensecrets_id': '', 'knowwho_pid': 529817, 'ballotpedia': 'Alex_Lee', 'bioguide_id': '', 'sponsor_type_id': 1, 'sponsor_order': 4, 'committee_sponsor': 0, 'committee_id': 0, 'state_federal': 0}, {'people_id': 16296, 'person_hash': 'zgv6r7nn', 'party_id': '1', 'state_id': 5, 'party': 'D', 'role_id': 1, 'role': 'Rep', 'name': 'Kevin McCarty', 'first_name': 'Kevin', 'middle_name': '', 'last_name': 'McCarty', 'suffix': '', 'nickname': '', 'district': 'HD-006', 'ftm_eid': 13008471, 'votesmart_id': 70260, 'opensecrets_id': '', 'knowwho_pid': 293422, 'ballotpedia': 'Kevin_McCarty_(California)', 'bioguide_id': '', 'sponsor_type_id': 1, 'sponsor_order': 5, 'committee_sponsor': 0, 'committee_id': 0, 'state_federal': 0}, {'people_id': 23155, 'person_hash': 'zu3rus3c', 'party_id': '1', 'state_id': 5, 'party': 'D', 'role_id': 1, 'role': 'Rep', 'name': 'Tina McKinnor', 'first_name': 'Tina', 'middle_name': 'Simone', 'last_name': 'McKinnor', 'suffix': '', 'nickname': '', 'district': 'HD-061', 'ftm_eid': 54921400, 'votesmart_id': 205324, 'opensecrets_id': '', 'knowwho_pid': 333099, 'ballotpedia': 'Tina_McKinnor', 'bioguide_id': '', 'sponsor_type_id': 1, 'sponsor_order': 6, 'committee_sponsor': 0, 'committee_id': 0, 'state_federal': 0}, {'people_id': 23214, 'person_hash': 'bedzp91k', 'party_id': '1', 'state_id': 5, 'party': 'D', 'role_id': 1, 'role': 'Rep', 'name': 'Liz Ortega', 'first_name': 'Liz', 'middle_name': '', 'last_name': 'Ortega', 'suffix': '', 'nickname': '', 'district': 'HD-020', 'ftm_eid': 55433627, 'votesmart_id': 0, 'opensecrets_id': '', 'knowwho_pid': 0, 'ballotpedia': 'Liz_Ortega', 'bioguide_id': '', 'sponsor_type_id': 1, 'sponsor_order': 7, 'committee_sponsor': 0, 'committee_id': 0, 'state_federal': 0}, {'people_id': 18064, 'person_hash': 'vl9gz0m3', 'party_id': '1', 'state_id': 5, 'party': 'D', 'role_id': 1, 'role': 'Rep', 'name': 'Eloise Reyes', 'first_name': 'Eloise', 'middle_name': '', 'last_name': 'Reyes', 'suffix': '', 'nickname': '', 'district': 'HD-050', 'ftm_eid': 2536758, 'votesmart_id': 169395, 'opensecrets_id': '', 'knowwho_pid': 474456, 'ballotpedia': 'Eloise_Gomez_Reyes', 'bioguide_id': '', 'sponsor_type_id': 1, 'sponsor_order': 8, 'committee_sponsor': 0, 'committee_id': 0, 'state_federal': 0}, {'people_id': 19487, 'person_hash': '5q21i6vb', 'party_id': '1', 'state_id': 5, 'party': 'D', 'role_id': 1, 'role': 'Rep', 'name': 'Wendy Carrillo', 'first_name': 'Wendy', 'middle_name': '', 'last_name': 'Carrillo', 'suffix': '', 'nickname': '', 'district': 'HD-052', 'ftm_eid': 32687878, 'votesmart_id': 176116, 'opensecrets_id': '', 'knowwho_pid': 615691, 'ballotpedia': 'Wendy_Carrillo', 'bioguide_id': '', 'sponsor_type_id': 1, 'sponsor_order': 9, 'committee_sponsor': 0, 'committee_id': 0, 'state_federal': 0}, {'people_id': 19717, 'person_hash': 'w2wwdco0', 'party_id': '1', 'state_id': 5, 'party': 'D', 'role_id': 1, 'role': 'Rep', 'name': 'Tasha Boerner Horvath', 'first_name': 'Tasha', 'middle_name': '', 'last_name': 'Boerner Horvath', 'suffix': '', 'nickname': '', 'district': 'HD-077', 'ftm_eid': 42673378, 'votesmart_id': 180144, 'opensecrets_id': '', 'knowwho_pid': 660541, 'ballotpedia': 'Tasha_Boerner_Horvath', 'bioguide_id': '', 'sponsor_type_id': 1, 'sponsor_order': 10, 'committee_sponsor': 0, 'committee_id': 0, 'state_federal': 0}, {'people_id': 18068, 'person_hash': '0e28hoa9', 'party_id': '1', 'state_id': 5, 'party': 'D', 'role_id': 2, 'role': 'Sen', 'name': 'Scott Wiener', 'first_name': 'Scott', 'middle_name': '', 'last_name': 'Wiener', 'suffix': '', 'nickname': '', 'district': 'SD-011', 'ftm_eid': 32203683, 'votesmart_id': 129655, 'opensecrets_id': '', 'knowwho_pid': 577701, 'ballotpedia': 'Scott_Wiener', 'bioguide_id': '', 'sponsor_type_id': 3, 'sponsor_order': 11, 'committee_sponsor': 0, 'committee_id': 0, 'state_federal': 0}, {'people_id': 23202, 'person_hash': '24oveiik', 'party_id': '1', 'state_id': 5, 'party': 'D', 'role_id': 1, 'role': 'Rep', 'name': 'Dawn Addis', 'first_name': 'Dawn', 'middle_name': '', 'last_name': 'Addis', 'suffix': '', 'nickname': '', 'district': 'HD-030', 'ftm_eid': 55433654, 'votesmart_id': 188800, 'opensecrets_id': '', 'knowwho_pid': 0, 'ballotpedia': 'Dawn_Addis', 'bioguide_id': '', 'sponsor_type_id': 2, 'sponsor_order': 12, 'committee_sponsor': 0, 'committee_id': 0, 'state_federal': 0}, {'people_id': 23203, 'person_hash': 'y9f21tlh', 'party_id': '2', 'state_id': 5, 'party': 'R', 'role_id': 1, 'role': 'Rep', 'name': 'Juan Alanis', 'first_name': 'Juan', 'middle_name': '', 'last_name': 'Alanis', 'suffix': '', 'nickname': '', 'district': 'HD-022', 'ftm_eid': 55433635, 'votesmart_id': 0, 'opensecrets_id': '', 'knowwho_pid': 0, 'ballotpedia': 'Juan_Alanis_(California)', 'bioguide_id': '', 'sponsor_type_id': 2, 'sponsor_order': 13, 'committee_sponsor': 0, 'committee_id': 0, 'state_federal': 0}, {'people_id': 19459, 'person_hash': 'vz6kcbgj', 'party_id': '1', 'state_id': 5, 'party': 'D', 'role_id': 1, 'role': 'Rep', 'name': 'Joaquin Arambula', 'first_name': 'Joaquin', 'middle_name': '', 'last_name': 'Arambula', 'suffix': '', 'nickname': '', 'district': 'HD-031', 'ftm_eid': 38179528, 'votesmart_id': 169272, 'opensecrets_id': '', 'knowwho_pid': 577832, 'ballotpedia': 'Joaquin_Arambula', 'bioguide_id': '', 'sponsor_type_id': 2, 'sponsor_order': 14, 'committee_sponsor': 0, 'committee_id': 0, 'state_federal': 0}, {'people_id': 21724, 'person_hash': 'kietw7cb', 'party_id': '1', 'state_id': 5, 'party': 'D', 'role_id': 2, 'role': 'Sen', 'name': 'Josh Becker', 'first_name': 'Josh', 'middle_name': '', 'last_name': 'Becker', 'suffix': '', 'nickname': '', 'district': 'SD-013', 'ftm_eid': 6503297, 'votesmart_id': 120184, 'opensecrets_id': '', 'knowwho_pid': 290928, 'ballotpedia': 'Josh_Becker', 'bioguide_id': '', 'sponsor_type_id': 3, 'sponsor_order': 15, 'committee_sponsor': 0, 'committee_id': 0, 'state_federal': 0}, {'people_id': 18073, 'person_hash': '09kfk5wb', 'party_id': '1', 'state_id': 5, 'party': 'D', 'role_id': 1, 'role': 'Rep', 'name': 'Marc Berman', 'first_name': 'Marc', 'middle_name': '', 'last_name': 'Berman', 'suffix': '', 'nickname': '', 'district': 'HD-023', 'ftm_eid': 147046, 'votesmart_id': 146412, 'opensecrets_id': '', 'knowwho_pid': 577793, 'ballotpedia': 'Marc_Berman', 'bioguide_id': '', 'sponsor_type_id': 2, 'sponsor_order': 16, 'committee_sponsor': 0, 'committee_id': 0, 'state_federal': 0}, {'people_id': 23227, 'person_hash': 'c4qtthhc', 'party_id': '1', 'state_id': 5, 'party': 'D', 'role_id': 2, 'role': 'Sen', 'name': 'Catherine Blakespear', 'first_name': 'Catherine', 'middle_name': '', 'last_name': 'Blakespear', 'suffix': '', 'nickname': '', 'district': 'SD-038', 'ftm_eid': 55433586, 'votesmart_id': 0, 'opensecrets_id': '', 'knowwho_pid': 0, 'ballotpedia': 'Catherine_Blakespear', 'bioguide_id': '', 'sponsor_type_id': 3, 'sponsor_order': 17, 'committee_sponsor': 0, 'committee_id': 0, 'state_federal': 0}, {'people_id': 22948, 'person_hash': 'nzkfbj3k', 'party_id': '1', 'state_id': 5, 'party': 'D', 'role_id': 1, 'role': 'Rep', 'name': 'Mia Bonta', 'first_name': 'Mia', 'middle_name': '', 'last_name': 'Bonta', 'suffix': '', 'nickname': '', 'district': 'HD-018', 'ftm_eid': 53819060, 'votesmart_id': 196283, 'opensecrets_id': '', 'knowwho_pid': 786168, 'ballotpedia': 'Mia_Bonta', 'bioguide_id': '', 'sponsor_type_id': 2, 'sponsor_order': 18, 'committee_sponsor': 0, 'committee_id': 0, 'state_federal': 0}, {'people_id': 18079, 'person_hash': '79lzni93', 'party_id': '1', 'state_id': 5, 'party': 'D', 'role_id': 1, 'role': 'Rep', 'name': 'Sabrina Cervantes', 'first_name': 'Sabrina', 'middle_name': '', 'last_name': 'Cervantes', 'suffix': '', 'nickname': '', 'district': 'HD-058', 'ftm_eid': 38566119, 'votesmart_id': 169409, 'opensecrets_id': '', 'knowwho_pid': 455235, 'ballotpedia': 'Sabrina_Cervantes', 'bioguide_id': '', 'sponsor_type_id': 2, 'sponsor_order': 19, 'committee_sponsor': 0, 'committee_id': 0, 'state_federal': 0}, {'people_id': 23205, 'person_hash': '4f5hmoxp', 'party_id': '1', 'state_id': 5, 'party': 'D', 'role_id': 1, 'role': 'Rep', 'name': 'Damon Connolly', 'first_name': 'Damon', 'middle_name': '', 'last_name': 'Connolly', 'suffix': '', 'nickname': '', 'district': 'HD-012', 'ftm_eid': 341185, 'votesmart_id': 0, 'opensecrets_id': '', 'knowwho_pid': 0, 'ballotpedia': 'Damon_Connolly', 'bioguide_id': '', 'sponsor_type_id': 2, 'sponsor_order': 20, 'committee_sponsor': 0, 'committee_id': 0, 'state_federal': 0}, {'people_id': 21725, 'person_hash': '8kuz8dfs', 'party_id': '1', 'state_id': 5, 'party': 'D', 'role_id': 2, 'role': 'Sen', 'name': 'Dave Cortese', 'first_name': 'Dave', 'middle_name': '', 'last_name': 'Cortese', 'suffix': '', 'nickname': '', 'district': 'SD-015', 'ftm_eid': 44050174, 'votesmart_id': 114701, 'opensecrets_id': '', 'knowwho_pid': 510772, 'ballotpedia': 'Dave_Cortese_(California)', 'bioguide_id': '', 'sponsor_type_id': 3, 'sponsor_order': 21, 'committee_sponsor': 0, 'committee_id': 0, 'state_federal': 0}, {'people_id': 19726, 'person_hash': 'cuuow72f', 'party_id': '1', 'state_id': 5, 'party': 'D', 'role_id': 2, 'role': 'Sen', 'name': 'Maria Durazo', 'first_name': 'Maria', 'middle_name': 'Elena', 'last_name': 'Durazo', 'suffix': '', 'nickname': '', 'district': 'SD-026', 'ftm_eid': 2018933, 'votesmart_id': 179971, 'opensecrets_id': '', 'knowwho_pid': 660378, 'ballotpedia': 'Maria_Elena_Durazo', 'bioguide_id': '', 'sponsor_type_id': 3, 'sponsor_order': 22, 'committee_sponsor': 0, 'committee_id': 0, 'state_federal': 0}, {'people_id': 18069, 'person_hash': 'qfmoks5h', 'party_id': '2', 'state_id': 5, 'party': 'R', 'role_id': 1, 'role': 'Rep', 'name': 'Heath Flora', 'first_name': 'Heath', 'middle_name': '', 'last_name': 'Flora', 'suffix': '', 'nickname': '', 'district': 'HD-009', 'ftm_eid': 38586307, 'votesmart_id': 169309, 'opensecrets_id': '', 'knowwho_pid': 577761, 'ballotpedia': 'Heath_Flora', 'bioguide_id': '', 'sponsor_type_id': 2, 'sponsor_order': 23, 'committee_sponsor': 0, 'committee_id': 0, 'state_federal': 0}, {'people_id': 18077, 'person_hash': 'zx2cectn', 'party_id': '1', 'state_id': 5, 'party': 'D', 'role_id': 1, 'role': 'Rep', 'name': 'Laura Friedman', 'first_name': 'Laura', 'middle_name': '', 'last_name': 'Friedman', 'suffix': '', 'nickname': '', 'district': 'HD-044', 'ftm_eid': 39707454, 'votesmart_id': 111792, 'opensecrets_id': '', 'knowwho_pid': 577886, 'ballotpedia': 'Laura_Friedman', 'bioguide_id': '', 'sponsor_type_id': 2, 'sponsor_order': 24, 'committee_sponsor': 0, 'committee_id': 0, 'state_federal': 0}, {'people_id': 21374, 'person_hash': 'nn7hf3ra', 'party_id': '1', 'state_id': 5, 'party': 'D', 'role_id': 2, 'role': 'Sen', 'name': 'Lena Gonzalez', 'first_name': 'Lena', 'middle_name': '', 'last_name': 'Gonzalez', 'suffix': '', 'nickname': '', 'district': 'SD-033', 'ftm_eid': 29336335, 'votesmart_id': 157372, 'opensecrets_id': '', 'knowwho_pid': 709291, 'ballotpedia': 'Lena_Gonzalez', 'bioguide_id': '', 'sponsor_type_id': 3, 'sponsor_order': 25, 'committee_sponsor': 0, 'committee_id': 0, 'state_federal': 0}, {'people_id': 14107, 'person_hash': 'btdnvuci', 'party_id': '1', 'state_id': 5, 'party': 'D', 'role_id': 1, 'role': 'Rep', 'name': 'Chris Holden', 'first_name': 'Chris', 'middle_name': 'R.', 'last_name': 'Holden', 'suffix': '', 'nickname': '', 'district': 'HD-041', 'ftm_eid': 11022784, 'votesmart_id': 71235, 'opensecrets_id': '', 'knowwho_pid': 390127, 'ballotpedia': 'Chris_Holden', 'bioguide_id': '', 'sponsor_type_id': 2, 'sponsor_order': 26, 'committee_sponsor': 0, 'committee_id': 0, 'state_federal': 0}, {'people_id': 14109, 'person_hash': 'clxwdfml', 'party_id': '1', 'state_id': 5, 'party': 'D', 'role_id': 1, 'role': 'Rep', 'name': 'Reginald Jones-Sawyer', 'first_name': 'Reginald', 'middle_name': 'B.', 'last_name': 'Jones-Sawyer', 'suffix': 'Sr.', 'nickname': 'Reggie', 'district': 'HD-057', 'ftm_eid': 770807, 'votesmart_id': 120229, 'opensecrets_id': '', 'knowwho_pid': 289387, 'ballotpedia': 'Reginald_Jones-Sawyer', 'bioguide_id': '', 'sponsor_type_id': 2, 'sponsor_order': 27, 'committee_sponsor': 0, 'committee_id': 0, 'state_federal': 0}, {'people_id': 21726, 'person_hash': '17gq6eau', 'party_id': '1', 'state_id': 5, 'party': 'D', 'role_id': 2, 'role': 'Sen', 'name': 'John Laird', 'first_name': 'John', 'middle_name': '', 'last_name': 'Laird', 'suffix': '', 'nickname': '', 'district': 'SD-017', 'ftm_eid': 2576990, 'votesmart_id': 29614, 'opensecrets_id': '', 'knowwho_pid': 211749, 'ballotpedia': 'John_Laird', 'bioguide_id': '', 'sponsor_type_id': 3, 'sponsor_order': 28, 'committee_sponsor': 0, 'committee_id': 0, 'state_federal': 0}, {'people_id': 19659, 'person_hash': 'igll9aeq', 'party_id': '1', 'state_id': 5, 'party': 'D', 'role_id': 1, 'role': 'Rep', 'name': 'Luz Rivas', 'first_name': 'Luz', 'middle_name': 'Maria', 'last_name': 'Rivas', 'suffix': '', 'nickname': '', 'district': 'HD-043', 'ftm_eid': 44423598, 'votesmart_id': 178070, 'opensecrets_id': '', 'knowwho_pid': 660459, 'ballotpedia': 'Luz_Maria_Rivas', 'bioguide_id': '', 'sponsor_type_id': 2, 'sponsor_order': 29, 'committee_sponsor': 0, 'committee_id': 0, 'state_federal': 0}, {'people_id': 14112, 'person_hash': 'p2gbpg21', 'party_id': '1', 'state_id': 5, 'party': 'D', 'role_id': 1, 'role': 'Rep', 'name': 'Brian Maienschein', 'first_name': 'Brian', 'middle_name': '', 'last_name': 'Maienschein', 'suffix': '', 'nickname': '', 'district': 'HD-076', 'ftm_eid': 13008880, 'votesmart_id': 70360, 'opensecrets_id': '', 'knowwho_pid': 390179, 'ballotpedia': 'Brian_Maienschein', 'bioguide_id': '', 'sponsor_type_id': 2, 'sponsor_order': 30, 'committee_sponsor': 0, 'committee_id': 0, 'state_federal': 0}, {'people_id': 23099, 'person_hash': 'pif21lqh', 'party_id': '1', 'state_id': 5, 'party': 'D', 'role_id': 1, 'role': 'Rep', 'name': 'Mike Fong', 'first_name': 'Mike', 'middle_name': '', 'last_name': 'Fong', 'suffix': '', 'nickname': '', 'district': 'HD-049', 'ftm_eid': 54481568, 'votesmart_id': 176686, 'opensecrets_id': '', 'knowwho_pid': 799694, 'ballotpedia': 'Mike_Fong', 'bioguide_id': '', 'sponsor_type_id': 2, 'sponsor_order': 31, 'committee_sponsor': 0, 'committee_id': 0, 'state_federal': 0}, {'people_id': 18082, 'person_hash': '75k84peq', 'party_id': '1', 'state_id': 5, 'party': 'D', 'role_id': 2, 'role': 'Sen', 'name': 'Josh Newman', 'first_name': 'Josh', 'middle_name': '', 'last_name': 'Newman', 'suffix': '', 'nickname': '', 'district': 'SD-029', 'ftm_eid': 17794889, 'votesmart_id': 169187, 'opensecrets_id': '', 'knowwho_pid': 577733, 'ballotpedia': 'Josh_Newman', 'bioguide_id': '', 'sponsor_type_id': 3, 'sponsor_order': 32, 'committee_sponsor': 0, 'committee_id': 0, 'state_federal': 0}, {'people_id': 23217, 'person_hash': 'w82ulmkb', 'party_id': '1', 'state_id': 5, 'party': 'D', 'role_id': 1, 'role': 'Rep', 'name': 'Gail Pellerin', 'first_name': 'Gail', 'middle_name': '', 'last_name': 'Pellerin', 'suffix': '', 'nickname': '', 'district': 'HD-028', 'ftm_eid': 55433649, 'votesmart_id': 0, 'opensecrets_id': '', 'knowwho_pid': 0, 'ballotpedia': 'Gail_Pellerin', 'bioguide_id': '', 'sponsor_type_id': 2, 'sponsor_order': 33, 'committee_sponsor': 0, 'committee_id': 0, 'state_federal': 0}, {'people_id': 14120, 'person_hash': 'v4g9wzuf', 'party_id': '1', 'state_id': 5, 'party': 'D', 'role_id': 1, 'role': 'Rep', 'name': 'Anthony Rendon', 'first_name': 'Anthony', 'middle_name': '', 'last_name': 'Rendon', 'suffix': '', 'nickname': '', 'district': 'HD-062', 'ftm_eid': 37194, 'votesmart_id': 138445, 'opensecrets_id': '', 'knowwho_pid': 390323, 'ballotpedia': 'Anthony_Rendon', 'bioguide_id': '', 'sponsor_type_id': 2, 'sponsor_order': 34, 'committee_sponsor': 0, 'committee_id': 0, 'state_federal': 0}, {'people_id': 19721, 'person_hash': 'j62r3vmw', 'party_id': '1', 'state_id': 5, 'party': 'D', 'role_id': 1, 'role': 'Rep', 'name': 'Robert Rivas', 'first_name': 'Robert', 'middle_name': '', 'last_name': 'Rivas', 'suffix': '', 'nickname': '', 'district': 'HD-029', 'ftm_eid': 44493661, 'votesmart_id': 129744, 'opensecrets_id': '', 'knowwho_pid': 235930, 'ballotpedia': 'Robert_Rivas', 'bioguide_id': '', 'sponsor_type_id': 2, 'sponsor_order': 35, 'committee_sponsor': 0, 'committee_id': 0, 'state_federal': 0}, {'people_id': 16299, 'person_hash': '3qbpxicg', 'party_id': '1', 'state_id': 5, 'party': 'D', 'role_id': 1, 'role': 'Rep', 'name': 'Miguel Santiago', 'first_name': 'Miguel', 'middle_name': '', 'last_name': 'Santiago', 'suffix': '', 'nickname': '', 'district': 'HD-054', 'ftm_eid': 23421278, 'votesmart_id': 151853, 'opensecrets_id': '', 'knowwho_pid': 294448, 'ballotpedia': 'Miguel_Santiago_(California)', 'bioguide_id': '', 'sponsor_type_id': 2, 'sponsor_order': 36, 'committee_sponsor': 0, 'committee_id': 0, 'state_federal': 0}, {'people_id': 23219, 'person_hash': '5sbksvwv', 'party_id': '1', 'state_id': 5, 'party': 'D', 'role_id': 1, 'role': 'Rep', 'name': 'Pilar Schiavo', 'first_name': 'Pilar', 'middle_name': '', 'last_name': 'Schiavo', 'suffix': '', 'nickname': '', 'district': 'HD-040', 'ftm_eid': 55433685, 'votesmart_id': 0, 'opensecrets_id': '', 'knowwho_pid': 0, 'ballotpedia': 'Pilar_Schiavo', 'bioguide_id': '', 'sponsor_type_id': 2, 'sponsor_order': 37, 'committee_sponsor': 0, 'committee_id': 0, 'state_federal': 0}, {'people_id': 23230, 'person_hash': 'zpkqtvpu', 'party_id': '1', 'state_id': 5, 'party': 'D', 'role_id': 2, 'role': 'Sen', 'name': 'Lola Smallwood-Cuevas', 'first_name': 'Lola', 'middle_name': '', 'last_name': 'Smallwood-Cuevas', 'suffix': '', 'nickname': '', 'district': 'SD-028', 'ftm_eid': 55433576, 'votesmart_id': 0, 'opensecrets_id': '', 'knowwho_pid': 0, 'ballotpedia': 'Lola_Smallwood-Cuevas', 'bioguide_id': '', 'sponsor_type_id': 3, 'sponsor_order': 38, 'committee_sponsor': 0, 'committee_id': 0, 'state_federal': 0}, {'people_id': 14122, 'person_hash': 'br8oopme', 'party_id': '1', 'state_id': 5, 'party': 'D', 'role_id': 1, 'role': 'Rep', 'name': 'Philip Ting', 'first_name': 'Philip', 'middle_name': 'Y.', 'last_name': 'Ting', 'suffix': '', 'nickname': 'Phil', 'district': 'HD-019', 'ftm_eid': 11022760, 'votesmart_id': 138545, 'opensecrets_id': '', 'knowwho_pid': 390346, 'ballotpedia': 'Phil_Ting', 'bioguide_id': '', 'sponsor_type_id': 2, 'sponsor_order': 39, 'committee_sponsor': 0, 'committee_id': 0, 'state_federal': 0}, {'people_id': 21723, 'person_hash': 'gev894u1', 'party_id': '1', 'state_id': 5, 'party': 'D', 'role_id': 1, 'role': 'Rep', 'name': 'Chris Ward', 'first_name': 'Chris', 'middle_name': '', 'last_name': 'Ward', 'suffix': '', 'nickname': '', 'district': 'HD-078', 'ftm_eid': 40697966, 'votesmart_id': 176914, 'opensecrets_id': '', 'knowwho_pid': 727294, 'ballotpedia': 'Christopher_Ward_(California)', 'bioguide_id': '', 'sponsor_type_id': 2, 'sponsor_order': 40, 'committee_sponsor': 0, 'committee_id': 0, 'state_federal': 0}, {'people_id': 19723, 'person_hash': 'knu07ts7', 'party_id': '1', 'state_id': 5, 'party': 'D', 'role_id': 1, 'role': 'Rep', 'name': 'Buffy Wicks', 'first_name': 'Buffy', 'middle_name': '', 'last_name': 'Wicks', 'suffix': '', 'nickname': '', 'district': 'HD-014', 'ftm_eid': 44493619, 'votesmart_id': 180048, 'opensecrets_id': '', 'knowwho_pid': 278108, 'ballotpedia': 'Buffy_Wicks', 'bioguide_id': '', 'sponsor_type_id': 2, 'sponsor_order': 41, 'committee_sponsor': 0, 'committee_id': 0, 'state_federal': 0}, {'people_id': 16303, 'person_hash': 'yd5123c7', 'party_id': '1', 'state_id': 5, 'party': 'D', 'role_id': 1, 'role': 'Rep', 'name': 'Jim Wood', 'first_name': 'Jim', 'middle_name': '', 'last_name': 'Wood', 'suffix': '', 'nickname': '', 'district': 'HD-002', 'ftm_eid': 90105, 'votesmart_id': 71013, 'opensecrets_id': '', 'knowwho_pid': 494001, 'ballotpedia': 'Jim_Wood', 'bioguide_id': '', 'sponsor_type_id': 2, 'sponsor_order': 42, 'committee_sponsor': 0, 'committee_id': 0, 'state_federal': 0}, {'people_id': 23224, 'person_hash': '4601te89', 'party_id': '1', 'state_id': 5, 'party': 'D', 'role_id': 1, 'role': 'Rep', 'name': 'Rick Zbur', 'first_name': 'Rick', 'middle_name': 'Chavez', 'last_name': 'Zbur', 'suffix': '', 'nickname': '', 'district': 'HD-051', 'ftm_eid': 55433703, 'votesmart_id': 0, 'opensecrets_id': '', 'knowwho_pid': 0, 'ballotpedia': 'Avelino_Valencia', 'bioguide_id': '', 'sponsor_type_id': 2, 'sponsor_order': 43, 'committee_sponsor': 0, 'committee_id': 0, 'state_federal': 0}]\n",
      "sasts: []\n",
      "subjects: []\n",
      "texts: [{'doc_id': 2615819, 'date': '2022-12-05', 'type': 'Introduced', 'type_id': 1, 'mime': 'text/html', 'mime_id': 1, 'url': 'https://legiscan.com/CA/text/AB1/id/2615819', 'state_link': 'https://leginfo.legislature.ca.gov/faces/billTextClient.xhtml?bill_id=202320240AB1#99INT', 'text_size': 38137, 'text_hash': '92e780acce0b97f8ea1faf9b243d9495', 'alt_bill_text': 0, 'alt_mime': '', 'alt_mime_id': 0, 'alt_state_link': '', 'alt_text_size': 0, 'alt_text_hash': ''}, {'doc_id': 2782367, 'date': '2023-04-17', 'type': 'Amended', 'type_id': 3, 'mime': 'text/html', 'mime_id': 1, 'url': 'https://legiscan.com/CA/text/AB1/id/2782367', 'state_link': 'https://leginfo.legislature.ca.gov/faces/billTextClient.xhtml?bill_id=202320240AB1#98AMD', 'text_size': 39422, 'text_hash': '94f32ec0c81652fa05885b355684950a', 'alt_bill_text': 0, 'alt_mime': '', 'alt_mime_id': 0, 'alt_state_link': '', 'alt_text_size': 0, 'alt_text_hash': ''}, {'doc_id': 2814638, 'date': '2023-05-18', 'type': 'Amended', 'type_id': 3, 'mime': 'text/html', 'mime_id': 1, 'url': 'https://legiscan.com/CA/text/AB1/id/2814638', 'state_link': 'https://leginfo.legislature.ca.gov/faces/billTextClient.xhtml?bill_id=202320240AB1#97AMD', 'text_size': 39498, 'text_hash': '3adcf3a08dc9b2faa7a1531b3ccfde4e', 'alt_bill_text': 0, 'alt_mime': '', 'alt_mime_id': 0, 'alt_state_link': '', 'alt_text_size': 0, 'alt_text_hash': ''}]\n",
      "votes: [{'roll_call_id': 1311676, 'date': '2023-04-26', 'desc': 'Do pass and be re-referred to the Committee on [Appropriations]', 'yea': 6, 'nay': 1, 'nv': 0, 'absent': 0, 'total': 7, 'passed': 1, 'chamber': 'A', 'chamber_id': 19, 'url': 'https://legiscan.com/CA/rollcall/AB1/id/1311676', 'state_link': 'https://leginfo.legislature.ca.gov/faces/billVotesClient.xhtml?bill_id=202320240AB1'}, {'roll_call_id': 1327994, 'date': '2023-05-18', 'desc': 'Do pass as amended', 'yea': 12, 'nay': 3, 'nv': 0, 'absent': 1, 'total': 16, 'passed': 1, 'chamber': 'A', 'chamber_id': 19, 'url': 'https://legiscan.com/CA/rollcall/AB1/id/1327994', 'state_link': 'https://leginfo.legislature.ca.gov/faces/billVotesClient.xhtml?bill_id=202320240AB1'}, {'roll_call_id': 1333609, 'date': '2023-05-25', 'desc': 'AB 1 McKinnor Assembly Third Reading', 'yea': 68, 'nay': 5, 'nv': 0, 'absent': 7, 'total': 80, 'passed': 1, 'chamber': 'A', 'chamber_id': 19, 'url': 'https://legiscan.com/CA/rollcall/AB1/id/1333609', 'state_link': 'https://leginfo.legislature.ca.gov/faces/billVotesClient.xhtml?bill_id=202320240AB1'}]\n",
      "amendments: []\n",
      "supplements: []\n",
      "calendar: [{'type_id': 1, 'event_hash': 'bca548a2', 'type': 'Hearing', 'date': '2023-04-26', 'time': '09:00', 'location': 'State Capitol, Room 444', 'description': 'Assembly Public Employment And Retirement Hearing'}, {'type_id': 1, 'event_hash': '8bfe7ed5', 'type': 'Hearing', 'date': '2023-05-10', 'time': '09:00', 'location': '1021 O Street, Room 1100', 'description': 'Assembly Appropriations Hearing'}, {'type_id': 1, 'event_hash': '8b6e59f2', 'type': 'Hearing', 'date': '2023-05-18', 'time': '00:00', 'location': '1021 O Street, Room 1100', 'description': 'Assembly Appropriations Hearing'}, {'type_id': 1, 'event_hash': 'acb3ff4a', 'type': 'Hearing', 'date': '2023-06-28', 'time': '09:30', 'location': '1021 O Street, Room 2200', 'description': 'Senate Labor, Public Employment and Retirement Hearing'}, {'type_id': 1, 'event_hash': 'a57ac82e', 'type': 'Hearing', 'date': '2023-07-06', 'time': '00:00', 'location': '1021 O Street, Room 2100', 'description': 'Senate Judiciary Hearing'}]\n"
     ]
    }
   ],
   "source": [
    "namelist = readable_dataset.namelist()\n",
    "\n",
    "item=namelist[0]\n",
    "content = readable_dataset.read(item)\n",
    "content = content.decode('UTF-8')\n",
    "content = json.loads(content)\n",
    "\n",
    "for key, value in content['bill'].items():\n",
    "    print('{}: {}'.format(key, value))"
   ]
  },
  {
   "attachments": {},
   "cell_type": "markdown",
   "metadata": {},
   "source": [
    "Going to want the following:\n",
    "  url, completed (bool?), status (enum?), status_date, state, bill_number, bill_type(?), title, description, "
   ]
  },
  {
   "cell_type": "code",
   "execution_count": 31,
   "metadata": {},
   "outputs": [],
   "source": [
    "test = legis.get_bill(bill_id=19)\n",
    "df = pd.json_normalize(test)\n",
    "df.to_excel('excel_test.xlsx')"
   ]
  },
  {
   "cell_type": "code",
   "execution_count": 29,
   "metadata": {},
   "outputs": [
    {
     "data": {
      "text/plain": [
       "Index(['bill_id', 'change_hash', 'session_id', 'url', 'state_link',\n",
       "       'completed', 'status', 'status_date', 'progress', 'state', 'state_id',\n",
       "       'bill_number', 'bill_type', 'bill_type_id', 'body', 'body_id',\n",
       "       'current_body', 'current_body_id', 'title', 'description',\n",
       "       'pending_committee_id', 'referrals', 'history', 'sponsors', 'sasts',\n",
       "       'subjects', 'texts', 'votes', 'amendments', 'supplements', 'calendar',\n",
       "       'session.session_id', 'session.state_id', 'session.year_start',\n",
       "       'session.year_end', 'session.prefile', 'session.sine_die',\n",
       "       'session.prior', 'session.special', 'session.session_tag',\n",
       "       'session.session_title', 'session.session_name',\n",
       "       'committee.committee_id', 'committee.chamber', 'committee.chamber_id',\n",
       "       'committee.name'],\n",
       "      dtype='object')"
      ]
     },
     "execution_count": 29,
     "metadata": {},
     "output_type": "execute_result"
    }
   ],
   "source": [
    "df.columns"
   ]
  },
  {
   "cell_type": "code",
   "execution_count": 33,
   "metadata": {},
   "outputs": [
    {
     "ename": "ValueError",
     "evalue": "Must specify session identifier or state. Do not specify both. If you do only the state will be used in the resulting query",
     "output_type": "error",
     "traceback": [
      "\u001b[1;31m---------------------------------------------------------------------------\u001b[0m",
      "\u001b[1;31mValueError\u001b[0m                                Traceback (most recent call last)",
      "Cell \u001b[1;32mIn[33], line 1\u001b[0m\n\u001b[1;32m----> 1\u001b[0m master_list \u001b[39m=\u001b[39m legis\u001b[39m.\u001b[39;49mget_master_list()\n\u001b[0;32m      2\u001b[0m \u001b[39mprint\u001b[39m(master_list)\n",
      "File \u001b[1;32mc:\\Users\\blanc\\AppData\\Local\\Programs\\Python\\Python311\\Lib\\site-packages\\legcop\\__init__.py:80\u001b[0m, in \u001b[0;36mLegiScan.get_master_list\u001b[1;34m(self, state, session_id)\u001b[0m\n\u001b[0;32m     78\u001b[0m     url \u001b[39m=\u001b[39m \u001b[39mself\u001b[39m\u001b[39m.\u001b[39m_url(\u001b[39m'\u001b[39m\u001b[39mgetMasterList\u001b[39m\u001b[39m'\u001b[39m, {\u001b[39m'\u001b[39m\u001b[39mid\u001b[39m\u001b[39m'\u001b[39m:session_id})\n\u001b[0;32m     79\u001b[0m \u001b[39melse\u001b[39;00m:\n\u001b[1;32m---> 80\u001b[0m     \u001b[39mraise\u001b[39;00m \u001b[39mValueError\u001b[39;00m(\u001b[39m'\u001b[39m\u001b[39mMust specify session identifier or state. Do not specify both. If you do only the state will be used in the resulting query\u001b[39m\u001b[39m'\u001b[39m)\n\u001b[0;32m     81\u001b[0m data \u001b[39m=\u001b[39m \u001b[39mself\u001b[39m\u001b[39m.\u001b[39m_get(url)\n\u001b[0;32m     82\u001b[0m \u001b[39m#return a list of the bills\u001b[39;00m\n",
      "\u001b[1;31mValueError\u001b[0m: Must specify session identifier or state. Do not specify both. If you do only the state will be used in the resulting query"
     ]
    }
   ],
   "source": [
    "master_list = legis.get_master_list()\n",
    "print(master_list)"
   ]
  }
 ],
 "metadata": {
  "kernelspec": {
   "display_name": "Python 3",
   "language": "python",
   "name": "python3"
  },
  "language_info": {
   "codemirror_mode": {
    "name": "ipython",
    "version": 3
   },
   "file_extension": ".py",
   "mimetype": "text/x-python",
   "name": "python",
   "nbconvert_exporter": "python",
   "pygments_lexer": "ipython3",
   "version": "3.11.4"
  },
  "orig_nbformat": 4
 },
 "nbformat": 4,
 "nbformat_minor": 2
}
