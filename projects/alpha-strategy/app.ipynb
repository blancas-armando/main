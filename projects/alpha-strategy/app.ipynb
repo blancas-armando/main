{
 "cells": [
  {
   "cell_type": "code",
   "execution_count": 1,
   "metadata": {},
   "outputs": [],
   "source": [
    "from utilities import *"
   ]
  },
  {
   "attachments": {},
   "cell_type": "markdown",
   "metadata": {},
   "source": [
    "### Retrieving FRED data"
   ]
  },
  {
   "cell_type": "code",
   "execution_count": 7,
   "metadata": {},
   "outputs": [],
   "source": [
    "fred = FredAPI(api_key='653a02fbb384cf3e9b29d458109c8b11')\n",
    "cpi_release_dates = fred.getReleaseDates(release_id=10)\n",
    "cpi_ts = fred.getSerieData(serie_id='CPIAUCNS', start_date='1960-01-01', end_date='9999-12-31', flag_real=True)\n",
    "\n",
    "# convert & adjust date column that should be end of month\n",
    "cpi_ts['date_adjusted'] = pd.to_datetime(cpi_ts.date, format=\"%Y-%m-%d\") + pd.offsets.MonthEnd(0)\n",
    "cpi_ts['realtime_start'] = pd.to_datetime(cpi_ts.realtime_start, format=\"%Y-%m-%d\")\n",
    "\n",
    "# get factors & industries returns\n",
    "ff = FFData()\n",
    "# industries\n",
    "perf_sectors_raw = ff.getIndustryDailyData(data_source='10_Industry_Portfolios', weighting_scheme='value')\n",
    "# factors\n",
    "factors_raw = ff.getFactorDailyData()"
   ]
  },
  {
   "attachments": {},
   "cell_type": "markdown",
   "metadata": {},
   "source": [
    "### Training the Model"
   ]
  },
  {
   "cell_type": "code",
   "execution_count": 11,
   "metadata": {},
   "outputs": [],
   "source": [
    "train_data = prepare_data(cpi_ts, perf_sectors_raw, cpi_release_dates, start_date='1949-02-28', end_date='1988-12-31', actual=False)\n",
    "test_data = prepare_data(cpi_ts, perf_sectors_raw, cpi_release_dates, start_date='1988-12-31', end_date='2023-02-28', actual=True)"
   ]
  },
  {
   "cell_type": "code",
   "execution_count": 13,
   "metadata": {},
   "outputs": [
    {
     "data": {
      "text/html": [
       "<div>\n",
       "<style scoped>\n",
       "    .dataframe tbody tr th:only-of-type {\n",
       "        vertical-align: middle;\n",
       "    }\n",
       "\n",
       "    .dataframe tbody tr th {\n",
       "        vertical-align: top;\n",
       "    }\n",
       "\n",
       "    .dataframe thead th {\n",
       "        text-align: right;\n",
       "    }\n",
       "</style>\n",
       "<table border=\"1\" class=\"dataframe\">\n",
       "  <thead>\n",
       "    <tr style=\"text-align: right;\">\n",
       "      <th></th>\n",
       "      <th>NoDur</th>\n",
       "      <th>Durbl</th>\n",
       "      <th>Manuf</th>\n",
       "      <th>Enrgy</th>\n",
       "      <th>HiTec</th>\n",
       "      <th>Telcm</th>\n",
       "      <th>Shops</th>\n",
       "      <th>Hlth</th>\n",
       "      <th>Utils</th>\n",
       "      <th>Other</th>\n",
       "      <th>Regime</th>\n",
       "      <th>Regime_code</th>\n",
       "    </tr>\n",
       "    <tr>\n",
       "      <th>Date</th>\n",
       "      <th></th>\n",
       "      <th></th>\n",
       "      <th></th>\n",
       "      <th></th>\n",
       "      <th></th>\n",
       "      <th></th>\n",
       "      <th></th>\n",
       "      <th></th>\n",
       "      <th></th>\n",
       "      <th></th>\n",
       "      <th></th>\n",
       "      <th></th>\n",
       "    </tr>\n",
       "  </thead>\n",
       "  <tbody>\n",
       "    <tr>\n",
       "      <th>1991-01-16</th>\n",
       "      <td>1.11</td>\n",
       "      <td>0.68</td>\n",
       "      <td>0.70</td>\n",
       "      <td>-0.23</td>\n",
       "      <td>3.24</td>\n",
       "      <td>0.27</td>\n",
       "      <td>1.75</td>\n",
       "      <td>2.12</td>\n",
       "      <td>0.01</td>\n",
       "      <td>0.92</td>\n",
       "      <td>Higher &amp; Rising</td>\n",
       "      <td>3.0</td>\n",
       "    </tr>\n",
       "    <tr>\n",
       "      <th>1991-01-17</th>\n",
       "      <td>4.44</td>\n",
       "      <td>3.59</td>\n",
       "      <td>4.38</td>\n",
       "      <td>0.47</td>\n",
       "      <td>3.86</td>\n",
       "      <td>4.56</td>\n",
       "      <td>4.56</td>\n",
       "      <td>2.71</td>\n",
       "      <td>2.00</td>\n",
       "      <td>3.23</td>\n",
       "      <td>Higher &amp; Rising</td>\n",
       "      <td>3.0</td>\n",
       "    </tr>\n",
       "    <tr>\n",
       "      <th>1991-01-18</th>\n",
       "      <td>1.14</td>\n",
       "      <td>0.80</td>\n",
       "      <td>0.95</td>\n",
       "      <td>0.45</td>\n",
       "      <td>1.47</td>\n",
       "      <td>1.37</td>\n",
       "      <td>1.35</td>\n",
       "      <td>0.58</td>\n",
       "      <td>0.56</td>\n",
       "      <td>0.96</td>\n",
       "      <td>Higher &amp; Rising</td>\n",
       "      <td>3.0</td>\n",
       "    </tr>\n",
       "    <tr>\n",
       "      <th>1991-01-21</th>\n",
       "      <td>-0.39</td>\n",
       "      <td>-0.62</td>\n",
       "      <td>-0.28</td>\n",
       "      <td>-1.26</td>\n",
       "      <td>1.59</td>\n",
       "      <td>0.02</td>\n",
       "      <td>-0.48</td>\n",
       "      <td>0.40</td>\n",
       "      <td>-0.13</td>\n",
       "      <td>0.19</td>\n",
       "      <td>Higher &amp; Rising</td>\n",
       "      <td>3.0</td>\n",
       "    </tr>\n",
       "    <tr>\n",
       "      <th>1991-01-22</th>\n",
       "      <td>-0.07</td>\n",
       "      <td>-0.68</td>\n",
       "      <td>-0.85</td>\n",
       "      <td>0.45</td>\n",
       "      <td>-0.71</td>\n",
       "      <td>-3.00</td>\n",
       "      <td>-1.06</td>\n",
       "      <td>-0.43</td>\n",
       "      <td>-0.22</td>\n",
       "      <td>-0.13</td>\n",
       "      <td>Higher &amp; Rising</td>\n",
       "      <td>3.0</td>\n",
       "    </tr>\n",
       "  </tbody>\n",
       "</table>\n",
       "</div>"
      ],
      "text/plain": [
       "            NoDur  Durbl  Manuf  Enrgy  HiTec  Telcm  Shops  Hlth   Utils  \\\n",
       "Date                                                                        \n",
       "1991-01-16   1.11   0.68   0.70  -0.23   3.24   0.27   1.75   2.12   0.01   \n",
       "1991-01-17   4.44   3.59   4.38   0.47   3.86   4.56   4.56   2.71   2.00   \n",
       "1991-01-18   1.14   0.80   0.95   0.45   1.47   1.37   1.35   0.58   0.56   \n",
       "1991-01-21  -0.39  -0.62  -0.28  -1.26   1.59   0.02  -0.48   0.40  -0.13   \n",
       "1991-01-22  -0.07  -0.68  -0.85   0.45  -0.71  -3.00  -1.06  -0.43  -0.22   \n",
       "\n",
       "            Other           Regime  Regime_code  \n",
       "Date                                             \n",
       "1991-01-16   0.92  Higher & Rising          3.0  \n",
       "1991-01-17   3.23  Higher & Rising          3.0  \n",
       "1991-01-18   0.96  Higher & Rising          3.0  \n",
       "1991-01-21   0.19  Higher & Rising          3.0  \n",
       "1991-01-22  -0.13  Higher & Rising          3.0  "
      ]
     },
     "execution_count": 13,
     "metadata": {},
     "output_type": "execute_result"
    }
   ],
   "source": [
    "test_data.head()"
   ]
  },
  {
   "cell_type": "code",
   "execution_count": 14,
   "metadata": {},
   "outputs": [],
   "source": [
    "assets = test_data.drop(columns=[\"Regime\", \"Regime_code\"]) / 100\n",
    "regimes = test_data[[\"Regime_code\"]]\n",
    "n_assets = len(assets.T)\n"
   ]
  },
  {
   "cell_type": "code",
   "execution_count": 15,
   "metadata": {},
   "outputs": [],
   "source": [
    "# ranking weighting scheme\n",
    "model_allocation = train_data.groupby('Regime_code').mean(numeric_only=True).rank(axis=1, ascending=True) / np.arange(1, n_assets+1).sum() \n",
    "# equal weight for benchmark\n",
    "bench_allocation = model_allocation*0 + 1/len(model_allocation.columns)"
   ]
  },
  {
   "attachments": {},
   "cell_type": "markdown",
   "metadata": {},
   "source": [
    "### Backtesting"
   ]
  },
  {
   "cell_type": "code",
   "execution_count": 17,
   "metadata": {},
   "outputs": [
    {
     "name": "stderr",
     "output_type": "stream",
     "text": [
      "100%|██████████| 7848/7848 [00:06<00:00, 1178.71it/s]\n",
      "100%|██████████| 7848/7848 [00:06<00:00, 1182.73it/s]\n"
     ]
    },
    {
     "data": {
      "text/html": [
       "<div>\n",
       "<style scoped>\n",
       "    .dataframe tbody tr th:only-of-type {\n",
       "        vertical-align: middle;\n",
       "    }\n",
       "\n",
       "    .dataframe tbody tr th {\n",
       "        vertical-align: top;\n",
       "    }\n",
       "\n",
       "    .dataframe thead th {\n",
       "        text-align: right;\n",
       "    }\n",
       "</style>\n",
       "<table border=\"1\" class=\"dataframe\">\n",
       "  <thead>\n",
       "    <tr style=\"text-align: right;\">\n",
       "      <th></th>\n",
       "      <th>Return</th>\n",
       "      <th>Volatility</th>\n",
       "      <th>Turnover</th>\n",
       "      <th>Sharpe Ratio</th>\n",
       "      <th>Beta</th>\n",
       "      <th>Tracking Error</th>\n",
       "      <th>Information Ratio</th>\n",
       "    </tr>\n",
       "  </thead>\n",
       "  <tbody>\n",
       "    <tr>\n",
       "      <th>Portfolio</th>\n",
       "      <td>0.123555</td>\n",
       "      <td>0.177830</td>\n",
       "      <td>1.609428</td>\n",
       "      <td>0.694793</td>\n",
       "      <td>1.000974</td>\n",
       "      <td>0.026725</td>\n",
       "      <td>0.410912</td>\n",
       "    </tr>\n",
       "    <tr>\n",
       "      <th>Benchmark</th>\n",
       "      <td>0.112573</td>\n",
       "      <td>0.175639</td>\n",
       "      <td>0.120113</td>\n",
       "      <td>0.640934</td>\n",
       "      <td>NaN</td>\n",
       "      <td>NaN</td>\n",
       "      <td>NaN</td>\n",
       "    </tr>\n",
       "  </tbody>\n",
       "</table>\n",
       "</div>"
      ],
      "text/plain": [
       "             Return  Volatility  Turnover  Sharpe Ratio      Beta  \\\n",
       "Portfolio  0.123555    0.177830  1.609428      0.694793  1.000974   \n",
       "Benchmark  0.112573    0.175639  0.120113      0.640934       NaN   \n",
       "\n",
       "           Tracking Error  Information Ratio  \n",
       "Portfolio        0.026725           0.410912  \n",
       "Benchmark             NaN                NaN  "
      ]
     },
     "execution_count": 17,
     "metadata": {},
     "output_type": "execute_result"
    }
   ],
   "source": [
    "# portfolio backtest\n",
    "bt = Backtest(data_returns=assets, data_trigger=regimes, data_allocation=model_allocation, start_date=\"1991-12-31\", end_date=\"2023-02-28\")\n",
    "bt.run()\n",
    "# benchmark backtest\n",
    "bt_ref = Backtest(data_returns=assets, data_trigger=regimes, data_allocation=bench_allocation, start_date=\"1991-12-31\", end_date=\"2023-02-28\")\n",
    "bt_ref.run()\n",
    "# display annualized statistics\n",
    "bt.compute_stats(bt_ref)"
   ]
  },
  {
   "attachments": {},
   "cell_type": "markdown",
   "metadata": {},
   "source": [
    "### Falsification"
   ]
  },
  {
   "cell_type": "code",
   "execution_count": 18,
   "metadata": {},
   "outputs": [
    {
     "name": "stderr",
     "output_type": "stream",
     "text": [
      "100%|██████████| 7829/7829 [00:06<00:00, 1191.80it/s]\n",
      "100%|██████████| 7829/7829 [00:06<00:00, 1198.84it/s]\n",
      "100%|██████████| 7829/7829 [00:06<00:00, 1221.90it/s]\n"
     ]
    },
    {
     "data": {
      "text/html": [
       "<div>\n",
       "<style scoped>\n",
       "    .dataframe tbody tr th:only-of-type {\n",
       "        vertical-align: middle;\n",
       "    }\n",
       "\n",
       "    .dataframe tbody tr th {\n",
       "        vertical-align: top;\n",
       "    }\n",
       "\n",
       "    .dataframe thead th {\n",
       "        text-align: right;\n",
       "    }\n",
       "</style>\n",
       "<table border=\"1\" class=\"dataframe\">\n",
       "  <thead>\n",
       "    <tr style=\"text-align: right;\">\n",
       "      <th></th>\n",
       "      <th>Return</th>\n",
       "      <th>Volatility</th>\n",
       "      <th>Turnover</th>\n",
       "      <th>Sharpe Ratio</th>\n",
       "      <th>Beta</th>\n",
       "      <th>Tracking Error</th>\n",
       "      <th>Information Ratio</th>\n",
       "    </tr>\n",
       "  </thead>\n",
       "  <tbody>\n",
       "    <tr>\n",
       "      <th>Portfolio</th>\n",
       "      <td>0.096150</td>\n",
       "      <td>0.176423</td>\n",
       "      <td>1.583823</td>\n",
       "      <td>0.544999</td>\n",
       "      <td>0.991555</td>\n",
       "      <td>0.028662</td>\n",
       "      <td>-0.572988</td>\n",
       "    </tr>\n",
       "    <tr>\n",
       "      <th>Benchmark</th>\n",
       "      <td>0.112573</td>\n",
       "      <td>0.175639</td>\n",
       "      <td>0.120113</td>\n",
       "      <td>0.640934</td>\n",
       "      <td>NaN</td>\n",
       "      <td>NaN</td>\n",
       "      <td>NaN</td>\n",
       "    </tr>\n",
       "  </tbody>\n",
       "</table>\n",
       "</div>"
      ],
      "text/plain": [
       "             Return  Volatility  Turnover  Sharpe Ratio      Beta  \\\n",
       "Portfolio  0.096150    0.176423  1.583823      0.544999  0.991555   \n",
       "Benchmark  0.112573    0.175639  0.120113      0.640934       NaN   \n",
       "\n",
       "           Tracking Error  Information Ratio  \n",
       "Portfolio        0.028662          -0.572988  \n",
       "Benchmark             NaN                NaN  "
      ]
     },
     "execution_count": 18,
     "metadata": {},
     "output_type": "execute_result"
    }
   ],
   "source": [
    "# falsification 1\n",
    "regimes_false = (test_data[[\"Regime_code\"]]-2).replace(-1,2).replace(-2,3)\n",
    "bt_false = Backtest(data_returns=assets, data_trigger=regimes_false, data_allocation=model_allocation, start_date=\"1991-12-31\", end_date=\"2023-01-31\")\n",
    "bt_false.run()\n",
    "bt_false.compute_stats(bt_ref)\n",
    "\n",
    "# falsification 2\n",
    "regimes_false2 = (test_data[[\"Regime_code\"]]-1).replace(-1,3)\n",
    "bt_false2 = Backtest(data_returns=assets, data_trigger=regimes_false2, data_allocation=model_allocation, start_date=\"1991-12-31\", end_date=\"2023-01-31\")\n",
    "bt_false2.run()\n",
    "bt_false2.compute_stats(bt_ref)\n",
    "\n",
    "# falsification 3\n",
    "regimes_false3 = np.abs(test_data[[\"Regime_code\"]]-3)\n",
    "bt_false3 = Backtest(data_returns=assets, data_trigger=regimes_false3, data_allocation=model_allocation, start_date=\"1991-12-31\", end_date=\"2023-01-31\")\n",
    "bt_false3.run()\n",
    "bt_false3.compute_stats(bt_ref)"
   ]
  },
  {
   "attachments": {},
   "cell_type": "markdown",
   "metadata": {},
   "source": [
    "### Strategy Eval"
   ]
  },
  {
   "cell_type": "code",
   "execution_count": 20,
   "metadata": {},
   "outputs": [
    {
     "name": "stdout",
     "output_type": "stream",
     "text": [
      "0.010094419963846057\n"
     ]
    },
    {
     "data": {
      "text/html": [
       "<table class=\"simpletable\">\n",
       "<caption>GLS Regression Results</caption>\n",
       "<tr>\n",
       "  <th>Dep. Variable:</th>          <td>Perf</td>       <th>  R-squared:         </th>  <td>   0.977</td> \n",
       "</tr>\n",
       "<tr>\n",
       "  <th>Model:</th>                   <td>GLS</td>       <th>  Adj. R-squared:    </th>  <td>   0.977</td> \n",
       "</tr>\n",
       "<tr>\n",
       "  <th>Method:</th>             <td>Least Squares</td>  <th>  F-statistic:       </th>  <td>3.396e+05</td>\n",
       "</tr>\n",
       "<tr>\n",
       "  <th>Date:</th>             <td>Sun, 11 Jun 2023</td> <th>  Prob (F-statistic):</th>   <td>  0.00</td>  \n",
       "</tr>\n",
       "<tr>\n",
       "  <th>Time:</th>                 <td>19:23:28</td>     <th>  Log-Likelihood:    </th>  <td>  39111.</td> \n",
       "</tr>\n",
       "<tr>\n",
       "  <th>No. Observations:</th>      <td>  7848</td>      <th>  AIC:               </th> <td>-7.822e+04</td>\n",
       "</tr>\n",
       "<tr>\n",
       "  <th>Df Residuals:</th>          <td>  7846</td>      <th>  BIC:               </th> <td>-7.821e+04</td>\n",
       "</tr>\n",
       "<tr>\n",
       "  <th>Df Model:</th>              <td>     1</td>      <th>                     </th>      <td> </td>    \n",
       "</tr>\n",
       "<tr>\n",
       "  <th>Covariance Type:</th>      <td>nonrobust</td>    <th>                     </th>      <td> </td>    \n",
       "</tr>\n",
       "</table>\n",
       "<table class=\"simpletable\">\n",
       "<tr>\n",
       "    <td></td>       <th>coef</th>     <th>std err</th>      <th>t</th>      <th>P>|t|</th>  <th>[0.025</th>    <th>0.975]</th>  \n",
       "</tr>\n",
       "<tr>\n",
       "  <th>const</th> <td> 3.882e-05</td> <td> 1.87e-05</td> <td>    2.073</td> <td> 0.038</td> <td> 2.11e-06</td> <td> 7.55e-05</td>\n",
       "</tr>\n",
       "<tr>\n",
       "  <th>Perf</th>  <td>    1.0010</td> <td>    0.002</td> <td>  582.710</td> <td> 0.000</td> <td>    0.998</td> <td>    1.004</td>\n",
       "</tr>\n",
       "</table>\n",
       "<table class=\"simpletable\">\n",
       "<tr>\n",
       "  <th>Omnibus:</th>       <td>897.222</td> <th>  Durbin-Watson:     </th> <td>   1.958</td>\n",
       "</tr>\n",
       "<tr>\n",
       "  <th>Prob(Omnibus):</th> <td> 0.000</td>  <th>  Jarque-Bera (JB):  </th> <td>8946.126</td>\n",
       "</tr>\n",
       "<tr>\n",
       "  <th>Skew:</th>          <td>-0.008</td>  <th>  Prob(JB):          </th> <td>    0.00</td>\n",
       "</tr>\n",
       "<tr>\n",
       "  <th>Kurtosis:</th>      <td> 8.230</td>  <th>  Cond. No.          </th> <td>    91.8</td>\n",
       "</tr>\n",
       "</table><br/><br/>Notes:<br/>[1] Standard Errors assume that the covariance matrix of the errors is correctly specified."
      ],
      "text/plain": [
       "<class 'statsmodels.iolib.summary.Summary'>\n",
       "\"\"\"\n",
       "                            GLS Regression Results                            \n",
       "==============================================================================\n",
       "Dep. Variable:                   Perf   R-squared:                       0.977\n",
       "Model:                            GLS   Adj. R-squared:                  0.977\n",
       "Method:                 Least Squares   F-statistic:                 3.396e+05\n",
       "Date:                Sun, 11 Jun 2023   Prob (F-statistic):               0.00\n",
       "Time:                        19:23:28   Log-Likelihood:                 39111.\n",
       "No. Observations:                7848   AIC:                        -7.822e+04\n",
       "Df Residuals:                    7846   BIC:                        -7.821e+04\n",
       "Df Model:                           1                                         \n",
       "Covariance Type:            nonrobust                                         \n",
       "==============================================================================\n",
       "                 coef    std err          t      P>|t|      [0.025      0.975]\n",
       "------------------------------------------------------------------------------\n",
       "const       3.882e-05   1.87e-05      2.073      0.038    2.11e-06    7.55e-05\n",
       "Perf           1.0010      0.002    582.710      0.000       0.998       1.004\n",
       "==============================================================================\n",
       "Omnibus:                      897.222   Durbin-Watson:                   1.958\n",
       "Prob(Omnibus):                  0.000   Jarque-Bera (JB):             8946.126\n",
       "Skew:                          -0.008   Prob(JB):                         0.00\n",
       "Kurtosis:                       8.230   Cond. No.                         91.8\n",
       "==============================================================================\n",
       "\n",
       "Notes:\n",
       "[1] Standard Errors assume that the covariance matrix of the errors is correctly specified.\n",
       "\"\"\""
      ]
     },
     "execution_count": 20,
     "metadata": {},
     "output_type": "execute_result"
    }
   ],
   "source": [
    "# against reference benchmark\n",
    "X = bt_ref.portfolio_perf.Perf.dropna()\n",
    "y = bt.portfolio_perf.Perf.dropna()\n",
    "model = sm.GLS(y,sm.add_constant(X))\n",
    "res = model.fit()\n",
    "print(res.params[0]*260) # annualized alpha\n",
    "res.summary()"
   ]
  },
  {
   "cell_type": "code",
   "execution_count": 22,
   "metadata": {},
   "outputs": [
    {
     "name": "stdout",
     "output_type": "stream",
     "text": [
      "0.028927357988650367\n"
     ]
    },
    {
     "data": {
      "text/html": [
       "<table class=\"simpletable\">\n",
       "<caption>GLS Regression Results</caption>\n",
       "<tr>\n",
       "  <th>Dep. Variable:</th>          <td>Perf</td>       <th>  R-squared:         </th>  <td>   0.941</td> \n",
       "</tr>\n",
       "<tr>\n",
       "  <th>Model:</th>                   <td>GLS</td>       <th>  Adj. R-squared:    </th>  <td>   0.941</td> \n",
       "</tr>\n",
       "<tr>\n",
       "  <th>Method:</th>             <td>Least Squares</td>  <th>  F-statistic:       </th>  <td>2.523e+04</td>\n",
       "</tr>\n",
       "<tr>\n",
       "  <th>Date:</th>             <td>Sun, 11 Jun 2023</td> <th>  Prob (F-statistic):</th>   <td>  0.00</td>  \n",
       "</tr>\n",
       "<tr>\n",
       "  <th>Time:</th>                 <td>19:24:12</td>     <th>  Log-Likelihood:    </th>  <td>  35376.</td> \n",
       "</tr>\n",
       "<tr>\n",
       "  <th>No. Observations:</th>      <td>  7848</td>      <th>  AIC:               </th> <td>-7.074e+04</td>\n",
       "</tr>\n",
       "<tr>\n",
       "  <th>Df Residuals:</th>          <td>  7842</td>      <th>  BIC:               </th> <td>-7.070e+04</td>\n",
       "</tr>\n",
       "<tr>\n",
       "  <th>Df Model:</th>              <td>     5</td>      <th>                     </th>      <td> </td>    \n",
       "</tr>\n",
       "<tr>\n",
       "  <th>Covariance Type:</th>      <td>nonrobust</td>    <th>                     </th>      <td> </td>    \n",
       "</tr>\n",
       "</table>\n",
       "<table class=\"simpletable\">\n",
       "<tr>\n",
       "     <td></td>       <th>coef</th>     <th>std err</th>      <th>t</th>      <th>P>|t|</th>  <th>[0.025</th>    <th>0.975]</th>  \n",
       "</tr>\n",
       "<tr>\n",
       "  <th>const</th>  <td>    0.0001</td> <td> 3.02e-05</td> <td>    3.685</td> <td> 0.000</td> <td> 5.21e-05</td> <td>    0.000</td>\n",
       "</tr>\n",
       "<tr>\n",
       "  <th>Mkt-RF</th> <td>    0.9589</td> <td>    0.003</td> <td>  333.450</td> <td> 0.000</td> <td>    0.953</td> <td>    0.965</td>\n",
       "</tr>\n",
       "<tr>\n",
       "  <th>SMB</th>    <td>    0.0126</td> <td>    0.005</td> <td>    2.385</td> <td> 0.017</td> <td>    0.002</td> <td>    0.023</td>\n",
       "</tr>\n",
       "<tr>\n",
       "  <th>HML</th>    <td>    0.0452</td> <td>    0.005</td> <td>    8.904</td> <td> 0.000</td> <td>    0.035</td> <td>    0.055</td>\n",
       "</tr>\n",
       "<tr>\n",
       "  <th>RMW</th>    <td>    0.1446</td> <td>    0.007</td> <td>   21.027</td> <td> 0.000</td> <td>    0.131</td> <td>    0.158</td>\n",
       "</tr>\n",
       "<tr>\n",
       "  <th>CMA</th>    <td>    0.2661</td> <td>    0.009</td> <td>   30.116</td> <td> 0.000</td> <td>    0.249</td> <td>    0.283</td>\n",
       "</tr>\n",
       "</table>\n",
       "<table class=\"simpletable\">\n",
       "<tr>\n",
       "  <th>Omnibus:</th>       <td>1182.088</td> <th>  Durbin-Watson:     </th> <td>   1.980</td> \n",
       "</tr>\n",
       "<tr>\n",
       "  <th>Prob(Omnibus):</th>  <td> 0.000</td>  <th>  Jarque-Bera (JB):  </th> <td>19442.491</td>\n",
       "</tr>\n",
       "<tr>\n",
       "  <th>Skew:</th>           <td>-0.073</td>  <th>  Prob(JB):          </th> <td>    0.00</td> \n",
       "</tr>\n",
       "<tr>\n",
       "  <th>Kurtosis:</th>       <td>10.709</td>  <th>  Cond. No.          </th> <td>    313.</td> \n",
       "</tr>\n",
       "</table><br/><br/>Notes:<br/>[1] Standard Errors assume that the covariance matrix of the errors is correctly specified."
      ],
      "text/plain": [
       "<class 'statsmodels.iolib.summary.Summary'>\n",
       "\"\"\"\n",
       "                            GLS Regression Results                            \n",
       "==============================================================================\n",
       "Dep. Variable:                   Perf   R-squared:                       0.941\n",
       "Model:                            GLS   Adj. R-squared:                  0.941\n",
       "Method:                 Least Squares   F-statistic:                 2.523e+04\n",
       "Date:                Sun, 11 Jun 2023   Prob (F-statistic):               0.00\n",
       "Time:                        19:24:12   Log-Likelihood:                 35376.\n",
       "No. Observations:                7848   AIC:                        -7.074e+04\n",
       "Df Residuals:                    7842   BIC:                        -7.070e+04\n",
       "Df Model:                           5                                         \n",
       "Covariance Type:            nonrobust                                         \n",
       "==============================================================================\n",
       "                 coef    std err          t      P>|t|      [0.025      0.975]\n",
       "------------------------------------------------------------------------------\n",
       "const          0.0001   3.02e-05      3.685      0.000    5.21e-05       0.000\n",
       "Mkt-RF         0.9589      0.003    333.450      0.000       0.953       0.965\n",
       "SMB            0.0126      0.005      2.385      0.017       0.002       0.023\n",
       "HML            0.0452      0.005      8.904      0.000       0.035       0.055\n",
       "RMW            0.1446      0.007     21.027      0.000       0.131       0.158\n",
       "CMA            0.2661      0.009     30.116      0.000       0.249       0.283\n",
       "==============================================================================\n",
       "Omnibus:                     1182.088   Durbin-Watson:                   1.980\n",
       "Prob(Omnibus):                  0.000   Jarque-Bera (JB):            19442.491\n",
       "Skew:                          -0.073   Prob(JB):                         0.00\n",
       "Kurtosis:                      10.709   Cond. No.                         313.\n",
       "==============================================================================\n",
       "\n",
       "Notes:\n",
       "[1] Standard Errors assume that the covariance matrix of the errors is correctly specified.\n",
       "\"\"\""
      ]
     },
     "execution_count": 22,
     "metadata": {},
     "output_type": "execute_result"
    }
   ],
   "source": [
    "# against FF-5 factors\n",
    "y = bt.portfolio_perf.Perf.dropna()\n",
    "X = factors_raw.drop(columns=['RF']) / 100\n",
    "X = X.loc[y.index]\n",
    "y = y.loc[X.index]\n",
    "model = sm.GLS(y,sm.add_constant(X))\n",
    "res = model.fit()\n",
    "print(res.params.const*260) # annualized alpha\n",
    "res.summary()"
   ]
  },
  {
   "cell_type": "code",
   "execution_count": 23,
   "metadata": {},
   "outputs": [
    {
     "data": {
      "text/plain": [
       "<Axes: xlabel='Date'>"
      ]
     },
     "execution_count": 23,
     "metadata": {},
     "output_type": "execute_result"
    },
    {
     "data": {
      "image/png": "[encoded data removed]",
      "text/plain": [
       "<Figure size 1000x600 with 1 Axes>"
      ]
     },
     "metadata": {},
     "output_type": "display_data"
    },
    {
     "data": {
      "image/png": "[encoded data removed]",
      "text/plain": [
       "<Figure size 1000x600 with 1 Axes>"
      ]
     },
     "metadata": {},
     "output_type": "display_data"
    }
   ],
   "source": [
    "# we can also check the stability of alpha and market beta coefficients through time\n",
    "model_roll = RollingOLS(y, sm.add_constant(X), window=260)\n",
    "res_roll = model_roll.fit()\n",
    "\n",
    "plt.figure(figsize=(10, 6))\n",
    "(res_roll.params.const*260).plot()\n",
    "(res_roll.params.const*0+res_roll.params.const.mean()*260).plot(linestyle='dashed')\n",
    "\n",
    "plt.figure(figsize=(10, 6))\n",
    "(res_roll.params['Mkt-RF']).plot()\n",
    "(res_roll.params['Mkt-RF']*0+res_roll.params['Mkt-RF'].mean()).plot(linestyle='dashed')\n"
   ]
  },
  {
   "cell_type": "code",
   "execution_count": 25,
   "metadata": {},
   "outputs": [],
   "source": [
    "# calendar returns\n",
    "calendar_returns = pd.concat([(bt.portfolio_perf.Value.groupby(bt.portfolio_perf.index.year).last() / bt.portfolio_perf.Value.groupby(bt.portfolio_perf.index.year).last().shift(1) - 1), \n",
    "          bt_ref.portfolio_perf.Value.groupby(bt_ref.portfolio_perf.index.year).last() / bt_ref.portfolio_perf.Value.groupby(bt_ref.portfolio_perf.index.year).last().shift(1) - 1], axis=1, ignore_index=True).transpose().dropna(axis=1).rename(index={0:'Ptf', 1:'Ref'}).transpose()\n",
    "calendar_returns[\"Excess\"] = calendar_returns[\"Ptf\"] - calendar_returns[\"Ref\"]"
   ]
  },
  {
   "cell_type": "code",
   "execution_count": 32,
   "metadata": {},
   "outputs": [
    {
     "data": {
      "text/html": [
       "<div>\n",
       "<style scoped>\n",
       "    .dataframe tbody tr th:only-of-type {\n",
       "        vertical-align: middle;\n",
       "    }\n",
       "\n",
       "    .dataframe tbody tr th {\n",
       "        vertical-align: top;\n",
       "    }\n",
       "\n",
       "    .dataframe thead th {\n",
       "        text-align: right;\n",
       "    }\n",
       "</style>\n",
       "<table border=\"1\" class=\"dataframe\">\n",
       "  <thead>\n",
       "    <tr style=\"text-align: right;\">\n",
       "      <th></th>\n",
       "      <th>Ptf</th>\n",
       "      <th>Ref</th>\n",
       "      <th>Excess</th>\n",
       "    </tr>\n",
       "  </thead>\n",
       "  <tbody>\n",
       "    <tr>\n",
       "      <th>Ann. Mean</th>\n",
       "      <td>0.132386</td>\n",
       "      <td>0.122173</td>\n",
       "      <td>0.010213</td>\n",
       "    </tr>\n",
       "    <tr>\n",
       "      <th>Ann. Variance</th>\n",
       "      <td>0.031624</td>\n",
       "      <td>0.030849</td>\n",
       "      <td>0.000714</td>\n",
       "    </tr>\n",
       "    <tr>\n",
       "      <th>Skewness</th>\n",
       "      <td>-0.268444</td>\n",
       "      <td>-0.297996</td>\n",
       "      <td>-0.00664</td>\n",
       "    </tr>\n",
       "    <tr>\n",
       "      <th>Kurtosis</th>\n",
       "      <td>12.475995</td>\n",
       "      <td>11.487516</td>\n",
       "      <td>5.24279</td>\n",
       "    </tr>\n",
       "  </tbody>\n",
       "</table>\n",
       "</div>"
      ],
      "text/plain": [
       "                     Ptf        Ref    Excess\n",
       "Ann. Mean       0.132386   0.122173  0.010213\n",
       "Ann. Variance   0.031624   0.030849  0.000714\n",
       "Skewness       -0.268444  -0.297996  -0.00664\n",
       "Kurtosis       12.475995  11.487516   5.24279"
      ]
     },
     "execution_count": 32,
     "metadata": {},
     "output_type": "execute_result"
    }
   ],
   "source": [
    "moments = pd.DataFrame(index=[\"Ann. Mean\",\"Ann. Variance\",\"Skewness\",\"Kurtosis\"], columns=calendar_returns.columns)\n",
    "moments.loc[\"Ann. Mean\", \"Ptf\"] = bt.portfolio_perf.Perf.mean() * 260\n",
    "moments.loc[\"Ann. Variance\", \"Ptf\"] = bt.portfolio_perf.Perf.var() * 260\n",
    "moments.loc[\"Skewness\", \"Ptf\"] = bt.portfolio_perf.Perf.skew()\n",
    "moments.loc[\"Kurtosis\", \"Ptf\"] = bt.portfolio_perf.Perf.kurt()\n",
    "\n",
    "moments.loc[\"Ann. Mean\", \"Ref\"] = bt_ref.portfolio_perf.Perf.mean() * 260\n",
    "moments.loc[\"Ann. Variance\", \"Ref\"] = bt_ref.portfolio_perf.Perf.var() * 260\n",
    "moments.loc[\"Skewness\", \"Ref\"] = bt_ref.portfolio_perf.Perf.skew()\n",
    "moments.loc[\"Kurtosis\", \"Ref\"] = bt_ref.portfolio_perf.Perf.kurt()\n",
    "\n",
    "moments.loc[\"Ann. Mean\", \"Excess\"] = (bt.portfolio_perf.Perf - bt_ref.portfolio_perf.Perf).mean() * 260\n",
    "moments.loc[\"Ann. Variance\", \"Excess\"] = (bt.portfolio_perf.Perf - bt_ref.portfolio_perf.Perf).var() * 260\n",
    "moments.loc[\"Skewness\", \"Excess\"] = (bt.portfolio_perf.Perf - bt_ref.portfolio_perf.Perf).skew()\n",
    "moments.loc[\"Kurtosis\", \"Excess\"] = (bt.portfolio_perf.Perf - bt_ref.portfolio_perf.Perf).kurt()\n",
    "moments"
   ]
  }
 ],
 "metadata": {
  "kernelspec": {
   "display_name": "base",
   "language": "python",
   "name": "python3"
  },
  "language_info": {
   "codemirror_mode": {
    "name": "ipython",
    "version": 3
   },
   "file_extension": ".py",
   "mimetype": "text/x-python",
   "name": "python",
   "nbconvert_exporter": "python",
   "pygments_lexer": "ipython3",
   "version": "3.10.9"
  },
  "orig_nbformat": 4
 },
 "nbformat": 4,
 "nbformat_minor": 2
}
